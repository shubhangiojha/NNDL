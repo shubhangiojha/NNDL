{
 "cells": [
  {
   "cell_type": "code",
   "execution_count": 21,
   "id": "1c16d648",
   "metadata": {},
   "outputs": [
    {
     "name": "stdout",
     "output_type": "stream",
     "text": [
      "[[ 1.62434536 -0.61175641 -0.52817175]\n",
      " [-1.07296862  0.86540763 -2.3015387 ]]\n"
     ]
    }
   ],
   "source": [
    "import numpy as np\n",
    "np.random.seed(1)\n",
    "X=np.random.randn(2,3)\n",
    "print(X)"
   ]
  },
  {
   "cell_type": "code",
   "execution_count": 22,
   "id": "9c4566e0",
   "metadata": {},
   "outputs": [],
   "source": [
    "def sigmoid(z):\n",
    "        s=1/(1+np.exp(-z))\n",
    "        return s"
   ]
  },
  {
   "cell_type": "code",
   "execution_count": 23,
   "id": "0d0b4ee5",
   "metadata": {},
   "outputs": [
    {
     "name": "stdout",
     "output_type": "stream",
     "text": [
      "[[0.83539354 0.35165864 0.3709434 ]\n",
      " [0.25483894 0.70378922 0.09099561]]\n"
     ]
    }
   ],
   "source": [
    "s=sigmoid(X)\n",
    "print(s)"
   ]
  },
  {
   "cell_type": "code",
   "execution_count": 24,
   "id": "8327ccce",
   "metadata": {},
   "outputs": [],
   "source": [
    "def tan(z):    \n",
    "    s = (np.exp(z)-np.exp(-z))/(np.exp(z)+np.exp(-z))\n",
    "    return s"
   ]
  },
  {
   "cell_type": "code",
   "execution_count": 25,
   "id": "80e8dcb1",
   "metadata": {},
   "outputs": [
    {
     "name": "stdout",
     "output_type": "stream",
     "text": [
      "[[ 0.92525207 -0.5453623  -0.48398233]\n",
      " [-0.79057703  0.69903334 -0.98015695]]\n"
     ]
    }
   ],
   "source": [
    "t=tan(X)\n",
    "print(t)"
   ]
  },
  {
   "cell_type": "code",
   "execution_count": 26,
   "id": "21226252",
   "metadata": {},
   "outputs": [],
   "source": [
    "def relu(z):\n",
    "    s = np.maximum(0,z)\n",
    "    return s"
   ]
  },
  {
   "cell_type": "code",
   "execution_count": 27,
   "id": "ece90eaf",
   "metadata": {},
   "outputs": [
    {
     "name": "stdout",
     "output_type": "stream",
     "text": [
      "[[1.62434536 0.         0.        ]\n",
      " [0.         0.86540763 0.        ]]\n"
     ]
    }
   ],
   "source": [
    "r=relu(X)\n",
    "print(r)"
   ]
  },
  {
   "cell_type": "code",
   "execution_count": 28,
   "id": "b39459a7",
   "metadata": {},
   "outputs": [],
   "source": [
    "def lrelu(z):\n",
    "    s = np.maximum(0.01,z)\n",
    "    return s"
   ]
  },
  {
   "cell_type": "code",
   "execution_count": 29,
   "id": "9ebbda66",
   "metadata": {},
   "outputs": [
    {
     "name": "stdout",
     "output_type": "stream",
     "text": [
      "[[1.62434536 0.01       0.01      ]\n",
      " [0.01       0.86540763 0.01      ]]\n"
     ]
    }
   ],
   "source": [
    "ler=lrelu(X)\n",
    "print(ler)"
   ]
  },
  {
   "cell_type": "code",
   "execution_count": 30,
   "id": "77689cd6",
   "metadata": {},
   "outputs": [],
   "source": [
    "def softmax(vector):\n",
    "    e = np.exp(vector)\n",
    "    s= e / e.sum()\n",
    "    return s"
   ]
  },
  {
   "cell_type": "code",
   "execution_count": 31,
   "id": "06ef3fd8",
   "metadata": {},
   "outputs": [
    {
     "name": "stdout",
     "output_type": "stream",
     "text": [
      "[[0.56232214 0.06009779 0.06533695]\n",
      " [0.03789279 0.26325869 0.01109163]]\n"
     ]
    }
   ],
   "source": [
    "sof=softmax(X)\n",
    "print(sof)"
   ]
  },
  {
   "cell_type": "code",
   "execution_count": 32,
   "id": "367a37ed",
   "metadata": {},
   "outputs": [],
   "source": [
    "##derivatives\n",
    "def dsig(s):\n",
    "    das = (s)*(1-s)\n",
    "    return das"
   ]
  },
  {
   "cell_type": "code",
   "execution_count": 33,
   "id": "8816cd81",
   "metadata": {},
   "outputs": [
    {
     "name": "stdout",
     "output_type": "stream",
     "text": [
      "[[0.13751118 0.22799484 0.23334439]\n",
      " [0.18989606 0.20846995 0.08271541]]\n"
     ]
    }
   ],
   "source": [
    "ds=dsig(s)\n",
    "print(ds)"
   ]
  },
  {
   "cell_type": "code",
   "execution_count": 34,
   "id": "1cb68db4",
   "metadata": {},
   "outputs": [],
   "source": [
    "def dthan(s):\n",
    "    dat = (1-s**2)\n",
    "    return dat"
   ]
  },
  {
   "cell_type": "code",
   "execution_count": 35,
   "id": "188e09ba",
   "metadata": {},
   "outputs": [
    {
     "name": "stdout",
     "output_type": "stream",
     "text": [
      "[[ 0.92525207 -0.5453623  -0.48398233]\n",
      " [-0.79057703  0.69903334 -0.98015695]]\n"
     ]
    }
   ],
   "source": [
    "dt=dthan(t)\n",
    "print(t)"
   ]
  },
  {
   "cell_type": "code",
   "execution_count": 36,
   "id": "908cdecd",
   "metadata": {},
   "outputs": [],
   "source": [
    "def drelu(s):\n",
    "    dar=(np.int64(s>0))\n",
    "    return dar"
   ]
  },
  {
   "cell_type": "code",
   "execution_count": 37,
   "id": "855863e8",
   "metadata": {},
   "outputs": [
    {
     "name": "stdout",
     "output_type": "stream",
     "text": [
      "[[1 0 0]\n",
      " [0 1 0]]\n"
     ]
    }
   ],
   "source": [
    "dr = drelu(r)\n",
    "print(dr)"
   ]
  },
  {
   "cell_type": "code",
   "execution_count": 38,
   "id": "4f2a9863",
   "metadata": {},
   "outputs": [],
   "source": [
    "def dlrelu(s,alpha=0.01):\n",
    "    dal=np.where(s >0, 1, alpha)\n",
    "    return dal"
   ]
  },
  {
   "cell_type": "code",
   "execution_count": 39,
   "id": "908d5e91",
   "metadata": {},
   "outputs": [
    {
     "name": "stdout",
     "output_type": "stream",
     "text": [
      "[[1. 1. 1.]\n",
      " [1. 1. 1.]]\n"
     ]
    }
   ],
   "source": [
    "dler=dlrelu(ler,0.01)\n",
    "print(dler)"
   ]
  },
  {
   "cell_type": "markdown",
   "id": "5622eaf1",
   "metadata": {},
   "source": [
    "# Neural network model"
   ]
  },
  {
   "cell_type": "code",
   "execution_count": null,
   "id": "8fcffbef",
   "metadata": {},
   "outputs": [],
   "source": [
    "#1.Input X and Y\n",
    "np.random.seed(1)\n",
    "X=np.random.randn(2,3)\n",
    "Y=(np.random.randn(1,3)>0)"
   ]
  },
  {
   "cell_type": "code",
   "execution_count": 41,
   "id": "f21f1a86",
   "metadata": {},
   "outputs": [],
   "source": [
    "#2.Define shape\n",
    "def layer_sizes(X, Y,layers):\n",
    "    n_x=X.shape[0]\n",
    "    n_h=layers\n",
    "    n_y=Y.shape[0]\n",
    "    return (n_x,n_h,n_y)"
   ]
  },
  {
   "cell_type": "code",
   "execution_count": 42,
   "id": "71614b40",
   "metadata": {},
   "outputs": [],
   "source": [
    "n_x,n_h,n_y = layer_sizes(X, Y,4)"
   ]
  },
  {
   "cell_type": "code",
   "execution_count": 43,
   "id": "8c8d191d",
   "metadata": {},
   "outputs": [
    {
     "name": "stdout",
     "output_type": "stream",
     "text": [
      "2 4 1\n"
     ]
    }
   ],
   "source": [
    "print(n_x,n_h,n_y)"
   ]
  },
  {
   "cell_type": "code",
   "execution_count": 44,
   "id": "8b756e98",
   "metadata": {},
   "outputs": [],
   "source": [
    "#3. Initialize the parameters\n",
    "def initialize_parameters(n_x, n_h, n_y):\n",
    "    np.random.seed(2)\n",
    "    \n",
    "    W1 = np.random.randn(n_h,n_x)*0.01\n",
    "    b1 = np.zeros((n_h,1))          \n",
    "    W2 = np.random.randn(n_y,n_h)*0.01   \n",
    "    b2 = np.zeros((n_y,1))            \n",
    "\n",
    "    parameters = {\"W1\": W1,\n",
    "                  \"b1\": b1,\n",
    "                  \"W2\": W2,\n",
    "                  \"b2\": b2}\n",
    "    return parameters"
   ]
  },
  {
   "cell_type": "code",
   "execution_count": 45,
   "id": "238a1f12",
   "metadata": {},
   "outputs": [
    {
     "name": "stdout",
     "output_type": "stream",
     "text": [
      "{'W1': array([[-0.00416758, -0.00056267],\n",
      "       [-0.02136196,  0.01640271],\n",
      "       [-0.01793436, -0.00841747],\n",
      "       [ 0.00502881, -0.01245288]]), 'b1': array([[0.],\n",
      "       [0.],\n",
      "       [0.],\n",
      "       [0.]]), 'W2': array([[-0.01057952, -0.00909008,  0.00551454,  0.02292208]]), 'b2': array([[0.]])}\n"
     ]
    }
   ],
   "source": [
    "parameters=initialize_parameters(n_x, n_h, n_y)\n",
    "print(parameters)"
   ]
  },
  {
   "cell_type": "code",
   "execution_count": 46,
   "id": "c2a0645e",
   "metadata": {},
   "outputs": [],
   "source": [
    "#4. Forward Propagation\n",
    "def forward_propagation(X, parameters):\n",
    "    W1 = parameters[\"W1\"]\n",
    "    b1 = parameters[\"b1\"]\n",
    "    W2 = parameters[\"W2\"]\n",
    "    b2 = parameters[\"b2\"]\n",
    "\n",
    "    Z1 = np.dot(W1,X)+b1\n",
    "    A1 = np.tanh(Z1)\n",
    "    Z2 = np.dot(W2,A1)+b2\n",
    "    A2 = sigmoid(Z2)\n",
    "\n",
    "    cache = {\"Z1\": Z1,\n",
    "             \"A1\": A1,\n",
    "             \"Z2\": Z2,\n",
    "             \"A2\": A2}\n",
    "    \n",
    "    return A2, cache"
   ]
  },
  {
   "cell_type": "code",
   "execution_count": 47,
   "id": "dc3b097e",
   "metadata": {},
   "outputs": [
    {
     "name": "stdout",
     "output_type": "stream",
     "text": [
      "[[0.5002307  0.49985831 0.50023963]] {'Z1': array([[-0.00616586,  0.00206261,  0.0034962 ],\n",
      "       [-0.05229879,  0.02726335, -0.02646868],\n",
      "       [-0.0200999 ,  0.00368691,  0.02884556],\n",
      "       [ 0.02153008, -0.01385323,  0.02600471]]), 'A1': array([[-0.00616578,  0.0020626 ,  0.00349619],\n",
      "       [-0.05225116,  0.02725659, -0.0264625 ],\n",
      "       [-0.0200972 ,  0.00368689,  0.02883756],\n",
      "       [ 0.02152676, -0.01385234,  0.02599885]]), 'Z2': array([[ 0.00092281, -0.00056678,  0.00095853]]), 'A2': array([[0.5002307 , 0.49985831, 0.50023963]])}\n"
     ]
    }
   ],
   "source": [
    "A2, cache=forward_propagation(X, parameters)\n",
    "print(A2, cache)"
   ]
  },
  {
   "cell_type": "code",
   "execution_count": 48,
   "id": "429c78f2",
   "metadata": {},
   "outputs": [],
   "source": [
    "#5.Compute Cost\n",
    "def compute_cost(A2, Y, parameters):\n",
    "    m=Y.shape[1]\n",
    "    logprobs = np.multiply(np.log(A2),Y)+np.multiply(np.log(1-A2),(1-Y))\n",
    "    cost = -np.sum(logprobs)/m\n",
    "    cost = float(np.squeeze(cost))\n",
    "    return cost"
   ]
  },
  {
   "cell_type": "code",
   "execution_count": 49,
   "id": "ee66b83d",
   "metadata": {},
   "outputs": [
    {
     "data": {
      "text/plain": [
       "0.6927392477233995"
      ]
     },
     "execution_count": 49,
     "metadata": {},
     "output_type": "execute_result"
    }
   ],
   "source": [
    "compute_cost(A2, Y, parameters)"
   ]
  },
  {
   "cell_type": "code",
   "execution_count": 50,
   "id": "aadf27c4",
   "metadata": {},
   "outputs": [],
   "source": [
    "#6. Backward Propagation\n",
    "def BWP(parameters,cache,X,Y):\n",
    "    W1=parameters[\"W1\"]\n",
    "    b1=parameters[\"b1\"]\n",
    "    W2=parameters[\"W2\"]\n",
    "    b2=parameters[\"b2\"]\n",
    "\n",
    "    A1=cache[\"A1\"]\n",
    "    A2=cache[\"A2\"]\n",
    "\n",
    "    m=Y.size\n",
    "\n",
    "    dZ2=A2-Y\n",
    "    dW2=np.dot(dZ2,A1.T)/m\n",
    "    db2=np.sum(dZ2,axis=1,keepdims=True)/m\n",
    "    dA1=np.dot(W2.T,dZ2)\n",
    "    dZ1=dA1*(1-np.power(A1,2))\n",
    "    dW1=np.dot(dZ1,X.T)/m\n",
    "    db1=np.sum(dZ1,axis=1,keepdims=True)/m\n",
    "\n",
    "    grades={\"dW2\":dW2,\"db2\":db2,\"dW1\":dW1,\"db1\":db1}\n",
    "\n",
    "    return grades\n"
   ]
  },
  {
   "cell_type": "code",
   "execution_count": 51,
   "id": "1249148d",
   "metadata": {},
   "outputs": [
    {
     "name": "stdout",
     "output_type": "stream",
     "text": [
      "{'dW2': array([[ 0.00078841,  0.01765429, -0.00084166, -0.01022527]]), 'db2': array([[-0.16655712]]), 'dW1': array([[ 0.00301023, -0.00747267],\n",
      "       [ 0.00257968, -0.00641288],\n",
      "       [-0.00156892,  0.003893  ],\n",
      "       [-0.00652037,  0.01618243]]), 'db1': array([[ 0.00176201],\n",
      "       [ 0.00150995],\n",
      "       [-0.00091736],\n",
      "       [-0.00381422]])}\n"
     ]
    }
   ],
   "source": [
    "grades=BWP(parameters,cache,X,Y)\n",
    "print(grades)"
   ]
  },
  {
   "cell_type": "code",
   "execution_count": 52,
   "id": "9d9968ab",
   "metadata": {},
   "outputs": [],
   "source": [
    "#7.Update Grades\n",
    "def update(parameters,grades,lr=0.01):\n",
    "    W1=parameters[\"W1\"]\n",
    "    b1=parameters[\"b1\"]\n",
    "    W2=parameters[\"W2\"]\n",
    "    b2=parameters[\"b2\"]\n",
    "\n",
    "    dW1=grades[\"dW1\"]\n",
    "    db1=grades[\"db1\"]\n",
    "    dW2=grades[\"dW2\"]\n",
    "    db2=grades[\"db2\"]\n",
    "\n",
    "\n",
    "    W1=W1-lr*dW1\n",
    "    b1=b1-lr*db1\n",
    "    W2=W2-lr*dW2\n",
    "    b2=b2-lr*db2\n",
    "\n",
    "    parameters={\"W1\":W1,\"b1\":b1,\"W2\":W2,\"b2\":b2}\n",
    "\n",
    "    return parameters\n"
   ]
  },
  {
   "cell_type": "code",
   "execution_count": 53,
   "id": "2f5a99b2",
   "metadata": {},
   "outputs": [
    {
     "name": "stdout",
     "output_type": "stream",
     "text": [
      "{'W1': array([[-0.00419768, -0.00048794],\n",
      "       [-0.02138776,  0.01646684],\n",
      "       [-0.01791867, -0.0084564 ],\n",
      "       [ 0.00509402, -0.01261471]]), 'b1': array([[-1.76201370e-05],\n",
      "       [-1.50994736e-05],\n",
      "       [ 9.17363463e-06],\n",
      "       [ 3.81421789e-05]]), 'W2': array([[-0.01058741, -0.00926662,  0.00552296,  0.02302433]]), 'b2': array([[0.00166557]])}\n"
     ]
    }
   ],
   "source": [
    "parameters=update(parameters,grades,lr=0.01)\n",
    "print(parameters)"
   ]
  },
  {
   "cell_type": "code",
   "execution_count": 54,
   "id": "a2e04980",
   "metadata": {},
   "outputs": [],
   "source": [
    "#8.creat own NN\n",
    "def NN(X,Y,layers,itr=10000,print_cost=False):\n",
    "    np.random.seed(3)\n",
    "    n_x=layer_sizes(X, Y,layers)[0]\n",
    "    n_y=layer_sizes(X, Y,layers)[2]\n",
    "    n_h=layer_sizes(X, Y,layers)[1]\n",
    "\n",
    "    parameters=initialize_parameters(n_x, n_h, n_y)\n",
    "\n",
    "    for i in range (0,itr):\n",
    "        A2, cache = forward_propagation(X, parameters)\n",
    "        cost=compute_cost(A2, Y, parameters)\n",
    "        grades=BWP(parameters,cache,X,Y)\n",
    "        parameters=update(parameters,grades,lr=0.01)\n",
    "\n",
    "        if print_cost and i%100==0:\n",
    "            print(\"cost % i:%f\" %(i,cost))\n",
    "\n",
    "    return parameters\n"
   ]
  },
  {
   "cell_type": "code",
   "execution_count": 55,
   "id": "9927eb80",
   "metadata": {},
   "outputs": [
    {
     "name": "stdout",
     "output_type": "stream",
     "text": [
      "cost  0:0.692739\n",
      "cost  100:0.669215\n",
      "cost  200:0.649677\n",
      "cost  300:0.619729\n",
      "cost  400:0.555289\n",
      "cost  500:0.447120\n",
      "cost  600:0.328614\n",
      "cost  700:0.234149\n",
      "cost  800:0.169726\n",
      "cost  900:0.127562\n"
     ]
    },
    {
     "data": {
      "text/plain": [
       "{'W1': array([[-0.21830665,  0.43559748],\n",
       "        [-0.38633057,  0.73732683],\n",
       "        [ 0.11624791, -0.28270074],\n",
       "        [ 0.39639168, -0.77368548]]),\n",
       " 'b1': array([[ 0.03393657],\n",
       "        [ 0.09586648],\n",
       "        [-0.01517238],\n",
       "        [-0.10360464]]),\n",
       " 'W2': array([[-0.52988031, -1.04262947,  0.31610115,  1.11019047]]),\n",
       " 'b2': array([[0.34409584]])}"
      ]
     },
     "execution_count": 55,
     "metadata": {},
     "output_type": "execute_result"
    }
   ],
   "source": [
    "NN(X,Y,4,itr=1000,print_cost=True)"
   ]
  }
 ],
 "metadata": {
  "kernelspec": {
   "display_name": "Python 3 (ipykernel)",
   "language": "python",
   "name": "python3"
  },
  "language_info": {
   "codemirror_mode": {
    "name": "ipython",
    "version": 3
   },
   "file_extension": ".py",
   "mimetype": "text/x-python",
   "name": "python",
   "nbconvert_exporter": "python",
   "pygments_lexer": "ipython3",
   "version": "3.9.12"
  }
 },
 "nbformat": 4,
 "nbformat_minor": 5
}
